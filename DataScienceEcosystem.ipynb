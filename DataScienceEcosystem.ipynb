{
 "cells": [
  {
   "cell_type": "markdown",
   "id": "dbc673cc",
   "metadata": {},
   "source": [
    "## Author\n",
    "Gustavo Mattar de souza"
   ]
  },
  {
   "cell_type": "markdown",
   "id": "03ba8287",
   "metadata": {},
   "source": [
    "# Data Science Tools and Ecosystem"
   ]
  },
  {
   "cell_type": "markdown",
   "id": "026c0507",
   "metadata": {},
   "source": [
    "In this notebook, Data Science Tools and Ecosystem are summarized"
   ]
  },
  {
   "cell_type": "markdown",
   "id": "1886b686",
   "metadata": {},
   "source": [
    "**Objectives:**\n",
    "1. Identify popular languages among Data Scientists.\n",
    "2. Explore commonly used libraries by Data Scientists.\n",
    "3. Create tables using Markdown syntax.\n",
    "4. Provide examples of evaluating arithmetic expressions in Python.\n",
    "5. Convert 200 minutes to hours by dividing by 60."
   ]
  },
  {
   "cell_type": "markdown",
   "id": "80fda50c",
   "metadata": {},
   "source": [
    "Some of the popular languages that Data Scientists use are:"
   ]
  },
  {
   "cell_type": "code",
   "execution_count": 3,
   "id": "54f6a2cf",
   "metadata": {},
   "outputs": [
    {
     "name": "stdout",
     "output_type": "stream",
     "text": [
      "1. Python\n",
      "2. Julia\n",
      "3. R\n"
     ]
    }
   ],
   "source": [
    "print (\"1. Python\")\n",
    "print (\"2. Julia\")\n",
    "print (\"3. R\")"
   ]
  },
  {
   "cell_type": "markdown",
   "id": "23bbf27c",
   "metadata": {},
   "source": [
    "Some of the commonly used libraries used by Data Scientists include:"
   ]
  },
  {
   "cell_type": "code",
   "execution_count": 5,
   "id": "93953fc6",
   "metadata": {},
   "outputs": [
    {
     "name": "stdout",
     "output_type": "stream",
     "text": [
      "1. ggplot\n",
      "2. tensor flow\n",
      "3. Pandas\n"
     ]
    }
   ],
   "source": [
    "print (\"1. ggplot\")\n",
    "print (\"2. tensor flow\")\n",
    "print (\"3. Pandas\")"
   ]
  },
  {
   "cell_type": "markdown",
   "id": "3a53ec1f",
   "metadata": {},
   "source": [
    "| Data Science Tools        |\n",
    "|---------------------------|\n",
    "| pandas                    |\n",
    "| scikit-learn              |\n",
    "| Jupyter Notebooks         |\n"
   ]
  },
  {
   "cell_type": "markdown",
   "id": "0e9229c9",
   "metadata": {},
   "source": [
    "### Below are a few examples of evaluating arithmetic expressions in Python"
   ]
  },
  {
   "cell_type": "code",
   "execution_count": 8,
   "id": "62b49917",
   "metadata": {},
   "outputs": [
    {
     "name": "stdout",
     "output_type": "stream",
     "text": [
      "17\n"
     ]
    }
   ],
   "source": [
    "# This a simple arithmetic expression to mutiply then add integers\n",
    "\n",
    "a = 3\n",
    "b = 4\n",
    "c = 5\n",
    "\n",
    "d = (a*b)+c\n",
    "print (d)"
   ]
  },
  {
   "cell_type": "code",
   "execution_count": 10,
   "id": "7e71cccb",
   "metadata": {},
   "outputs": [
    {
     "name": "stdout",
     "output_type": "stream",
     "text": [
      "3.3333333333333335\n"
     ]
    }
   ],
   "source": [
    "#  This will convert 200 minutes to hours by diving by 60\n",
    "\n",
    "H = 200/60\n",
    "print(H)"
   ]
  }
 ],
 "metadata": {
  "kernelspec": {
   "display_name": "Python 3 (ipykernel)",
   "language": "python",
   "name": "python3"
  },
  "language_info": {
   "codemirror_mode": {
    "name": "ipython",
    "version": 3
   },
   "file_extension": ".py",
   "mimetype": "text/x-python",
   "name": "python",
   "nbconvert_exporter": "python",
   "pygments_lexer": "ipython3",
   "version": "3.11.5"
  }
 },
 "nbformat": 4,
 "nbformat_minor": 5
}
